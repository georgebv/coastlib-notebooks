{
 "cells": [
  {
   "cell_type": "markdown",
   "metadata": {},
   "source": [
    "**Developed by:** [Georgii Bocharov](https://github.com/georgebv)\n",
    "\n",
    "**E-Mail:** bocharovgeorgii@gmail.com\n",
    "\n",
    "**coastlib:** https://github.com/georgebv/coastlib\n",
    "\n",
    "**License:** GNU General Public License v3.0\n",
    "\n",
    "\n",
    "# Introduction\n",
    "This notebook provides examples for the `noaa_coops` module of the [coastlib](https://github.com/georgebv/coastlib) library. Source code for this module [can be found here](https://github.com/georgebv/coastlib/blob/master/coastlib/data/noaa_coops.py).\n",
    "\n",
    "The `noaa_coops` module is a part of the `coastlib.data` package. This module provides interface to the [NOAA CO-OPS](https://co-ops.nos.noaa.gov/) data portal via the [CO-OPS API](https://tidesandcurrents.noaa.gov/api/). It allows retrieval of data collected by CO-OPS sensors such as wind, water levels, currents, salinity, air pressure, etc. in the form of [pandas](https://pandas.pydata.org/) [DataFrame](https://pandas.pydata.org/pandas-docs/stable/reference/api/pandas.DataFrame.html). With the help of this tool one can automate extraction of large amounts of data from NOAA stations for further processing and storing.\n",
    "\n",
    "# Basic usage\n",
    "Let's start by extracting water level data for the New York City [the Battery](https://duckduckgo.com/?q=noaa+the+battery&t=ffab&ia=web) station for the October 2012 time period (Hurricane Sandy)."
   ]
  },
  {
   "cell_type": "code",
   "execution_count": 1,
   "metadata": {},
   "outputs": [
    {
     "data": {
      "text/html": [
       "<div>\n",
       "<style scoped>\n",
       "    .dataframe tbody tr th:only-of-type {\n",
       "        vertical-align: middle;\n",
       "    }\n",
       "\n",
       "    .dataframe tbody tr th {\n",
       "        vertical-align: top;\n",
       "    }\n",
       "\n",
       "    .dataframe thead th {\n",
       "        text-align: right;\n",
       "    }\n",
       "</style>\n",
       "<table border=\"1\" class=\"dataframe\">\n",
       "  <thead>\n",
       "    <tr style=\"text-align: right;\">\n",
       "      <th></th>\n",
       "      <th>v</th>\n",
       "      <th>s</th>\n",
       "      <th>f</th>\n",
       "      <th>q</th>\n",
       "    </tr>\n",
       "    <tr>\n",
       "      <th>Time (gmt)</th>\n",
       "      <th></th>\n",
       "      <th></th>\n",
       "      <th></th>\n",
       "      <th></th>\n",
       "    </tr>\n",
       "  </thead>\n",
       "  <tbody>\n",
       "    <tr>\n",
       "      <th>2012-10-25 00:00:00</th>\n",
       "      <td>0.466</td>\n",
       "      <td>0.157</td>\n",
       "      <td>0,0,0,0</td>\n",
       "      <td>v</td>\n",
       "    </tr>\n",
       "    <tr>\n",
       "      <th>2012-10-25 00:06:00</th>\n",
       "      <td>0.358</td>\n",
       "      <td>0.095</td>\n",
       "      <td>0,0,0,0</td>\n",
       "      <td>v</td>\n",
       "    </tr>\n",
       "    <tr>\n",
       "      <th>2012-10-25 00:12:00</th>\n",
       "      <td>0.249</td>\n",
       "      <td>0.190</td>\n",
       "      <td>0,0,0,0</td>\n",
       "      <td>v</td>\n",
       "    </tr>\n",
       "    <tr>\n",
       "      <th>2012-10-25 00:18:00</th>\n",
       "      <td>0.135</td>\n",
       "      <td>0.105</td>\n",
       "      <td>0,0,0,0</td>\n",
       "      <td>v</td>\n",
       "    </tr>\n",
       "    <tr>\n",
       "      <th>2012-10-25 00:24:00</th>\n",
       "      <td>0.033</td>\n",
       "      <td>0.144</td>\n",
       "      <td>0,0,0,0</td>\n",
       "      <td>v</td>\n",
       "    </tr>\n",
       "  </tbody>\n",
       "</table>\n",
       "</div>"
      ],
      "text/plain": [
       "                         v      s        f  q\n",
       "Time (gmt)                                   \n",
       "2012-10-25 00:00:00  0.466  0.157  0,0,0,0  v\n",
       "2012-10-25 00:06:00  0.358  0.095  0,0,0,0  v\n",
       "2012-10-25 00:12:00  0.249  0.190  0,0,0,0  v\n",
       "2012-10-25 00:18:00  0.135  0.105  0,0,0,0  v\n",
       "2012-10-25 00:24:00  0.033  0.144  0,0,0,0  v"
      ]
     },
     "execution_count": 1,
     "metadata": {},
     "output_type": "execute_result"
    }
   ],
   "source": [
    "%matplotlib inline\n",
    "\n",
    "from coastlib.data import coops_api, coops_api_batch, coops_datum\n",
    "df = coops_api(station=8518750, begin_date='20121025', end_date='20121101', product='water_level', datum='NAVD')\n",
    "df.head()"
   ]
  },
  {
   "cell_type": "code",
   "execution_count": 2,
   "metadata": {},
   "outputs": [
    {
     "data": {
      "text/plain": [
       "<matplotlib.axes._subplots.AxesSubplot at 0x27fb577c208>"
      ]
     },
     "execution_count": 2,
     "metadata": {},
     "output_type": "execute_result"
    },
    {
     "data": {
      "image/png": "[encoded data removed]",
      "text/plain": [
       "<Figure size 432x288 with 1 Axes>"
      ]
     },
     "metadata": {
      "needs_background": "light"
     },
     "output_type": "display_data"
    }
   ],
   "source": [
    "df['v'].plot()"
   ]
  },
  {
   "cell_type": "markdown",
   "metadata": {},
   "source": [
    "Let's also get tidal datum for this station."
   ]
  },
  {
   "cell_type": "code",
   "execution_count": 3,
   "metadata": {},
   "outputs": [
    {
     "data": {
      "text/html": [
       "<div>\n",
       "<style scoped>\n",
       "    .dataframe tbody tr th:only-of-type {\n",
       "        vertical-align: middle;\n",
       "    }\n",
       "\n",
       "    .dataframe tbody tr th {\n",
       "        vertical-align: top;\n",
       "    }\n",
       "\n",
       "    .dataframe thead th {\n",
       "        text-align: right;\n",
       "    }\n",
       "</style>\n",
       "<table border=\"1\" class=\"dataframe\">\n",
       "  <thead>\n",
       "    <tr style=\"text-align: right;\">\n",
       "      <th></th>\n",
       "      <th>Value</th>\n",
       "    </tr>\n",
       "    <tr>\n",
       "      <th>Datum</th>\n",
       "      <th></th>\n",
       "    </tr>\n",
       "  </thead>\n",
       "  <tbody>\n",
       "    <tr>\n",
       "      <th>MHHW</th>\n",
       "      <td>2.543</td>\n",
       "    </tr>\n",
       "    <tr>\n",
       "      <th>MHW</th>\n",
       "      <td>2.445</td>\n",
       "    </tr>\n",
       "    <tr>\n",
       "      <th>DTL</th>\n",
       "      <td>1.773</td>\n",
       "    </tr>\n",
       "    <tr>\n",
       "      <th>MTL</th>\n",
       "      <td>1.755</td>\n",
       "    </tr>\n",
       "    <tr>\n",
       "      <th>MSL</th>\n",
       "      <td>1.785</td>\n",
       "    </tr>\n",
       "    <tr>\n",
       "      <th>MLW</th>\n",
       "      <td>1.065</td>\n",
       "    </tr>\n",
       "    <tr>\n",
       "      <th>MLLW</th>\n",
       "      <td>1.002</td>\n",
       "    </tr>\n",
       "    <tr>\n",
       "      <th>GT</th>\n",
       "      <td>1.542</td>\n",
       "    </tr>\n",
       "    <tr>\n",
       "      <th>MN</th>\n",
       "      <td>1.380</td>\n",
       "    </tr>\n",
       "    <tr>\n",
       "      <th>DHQ</th>\n",
       "      <td>0.099</td>\n",
       "    </tr>\n",
       "    <tr>\n",
       "      <th>DLQ</th>\n",
       "      <td>0.063</td>\n",
       "    </tr>\n",
       "    <tr>\n",
       "      <th>NAVD</th>\n",
       "      <td>1.848</td>\n",
       "    </tr>\n",
       "    <tr>\n",
       "      <th>LWI</th>\n",
       "      <td>7.210</td>\n",
       "    </tr>\n",
       "    <tr>\n",
       "      <th>HWI</th>\n",
       "      <td>0.840</td>\n",
       "    </tr>\n",
       "  </tbody>\n",
       "</table>\n",
       "</div>"
      ],
      "text/plain": [
       "       Value\n",
       "Datum       \n",
       "MHHW   2.543\n",
       "MHW    2.445\n",
       "DTL    1.773\n",
       "MTL    1.755\n",
       "MSL    1.785\n",
       "MLW    1.065\n",
       "MLLW   1.002\n",
       "GT     1.542\n",
       "MN     1.380\n",
       "DHQ    0.099\n",
       "DLQ    0.063\n",
       "NAVD   1.848\n",
       "LWI    7.210\n",
       "HWI    0.840"
      ]
     },
     "execution_count": 3,
     "metadata": {},
     "output_type": "execute_result"
    }
   ],
   "source": [
    "datum = coops_api(station=8518750, begin_date='20121025', end_date='20121101', product='datums', datum='MLLW', units='metric')\n",
    "datum"
   ]
  },
  {
   "cell_type": "markdown",
   "metadata": {},
   "source": [
    "The `coops_api` is the most direct way of interfacing with the CO-OPS API. Its drawback is that it allows for extraction of data for only a relatively small window (see [CO-OPS API](https://tidesandcurrents.noaa.gov/api/) documentation). Serious applications require years of data. That's where the `coops_api_batch` function comes into play.\n",
    "\n",
    "# Batch Data Extraction\n",
    "Let's get 2 years of wind data for the [Robbins Reef](https://tidesandcurrents.noaa.gov/stationhome.html?id=8530973) station."
   ]
  },
  {
   "cell_type": "code",
   "execution_count": 4,
   "metadata": {},
   "outputs": [
    {
     "data": {
      "text/html": [
       "<div>\n",
       "<style scoped>\n",
       "    .dataframe tbody tr th:only-of-type {\n",
       "        vertical-align: middle;\n",
       "    }\n",
       "\n",
       "    .dataframe tbody tr th {\n",
       "        vertical-align: top;\n",
       "    }\n",
       "\n",
       "    .dataframe thead th {\n",
       "        text-align: right;\n",
       "    }\n",
       "</style>\n",
       "<table border=\"1\" class=\"dataframe\">\n",
       "  <thead>\n",
       "    <tr style=\"text-align: right;\">\n",
       "      <th></th>\n",
       "      <th>s</th>\n",
       "      <th>d</th>\n",
       "      <th>dr</th>\n",
       "      <th>g</th>\n",
       "      <th>f</th>\n",
       "    </tr>\n",
       "    <tr>\n",
       "      <th>Time (gmt)</th>\n",
       "      <th></th>\n",
       "      <th></th>\n",
       "      <th></th>\n",
       "      <th></th>\n",
       "      <th></th>\n",
       "    </tr>\n",
       "  </thead>\n",
       "  <tbody>\n",
       "    <tr>\n",
       "      <th>2017-03-02 00:00:00</th>\n",
       "      <td>NaN</td>\n",
       "      <td>NaN</td>\n",
       "      <td>NaN</td>\n",
       "      <td>NaN</td>\n",
       "      <td>1,1</td>\n",
       "    </tr>\n",
       "    <tr>\n",
       "      <th>2017-03-02 00:06:00</th>\n",
       "      <td>NaN</td>\n",
       "      <td>NaN</td>\n",
       "      <td>NaN</td>\n",
       "      <td>NaN</td>\n",
       "      <td>1,1</td>\n",
       "    </tr>\n",
       "    <tr>\n",
       "      <th>2017-03-02 00:12:00</th>\n",
       "      <td>NaN</td>\n",
       "      <td>NaN</td>\n",
       "      <td>NaN</td>\n",
       "      <td>NaN</td>\n",
       "      <td>1,1</td>\n",
       "    </tr>\n",
       "    <tr>\n",
       "      <th>2017-03-02 00:18:00</th>\n",
       "      <td>NaN</td>\n",
       "      <td>NaN</td>\n",
       "      <td>NaN</td>\n",
       "      <td>NaN</td>\n",
       "      <td>1,1</td>\n",
       "    </tr>\n",
       "    <tr>\n",
       "      <th>2017-03-02 00:24:00</th>\n",
       "      <td>NaN</td>\n",
       "      <td>NaN</td>\n",
       "      <td>NaN</td>\n",
       "      <td>NaN</td>\n",
       "      <td>1,1</td>\n",
       "    </tr>\n",
       "  </tbody>\n",
       "</table>\n",
       "</div>"
      ],
      "text/plain": [
       "                      s   d   dr   g    f\n",
       "Time (gmt)                               \n",
       "2017-03-02 00:00:00 NaN NaN  NaN NaN  1,1\n",
       "2017-03-02 00:06:00 NaN NaN  NaN NaN  1,1\n",
       "2017-03-02 00:12:00 NaN NaN  NaN NaN  1,1\n",
       "2017-03-02 00:18:00 NaN NaN  NaN NaN  1,1\n",
       "2017-03-02 00:24:00 NaN NaN  NaN NaN  1,1"
      ]
     },
     "execution_count": 4,
     "metadata": {},
     "output_type": "execute_result"
    }
   ],
   "source": [
    "wind = coops_api_batch(station=8530973, begin_date='20170101', end_date='20190101', product='wind', datum='NAVD')\n",
    "wind.head()"
   ]
  },
  {
   "cell_type": "code",
   "execution_count": 5,
   "metadata": {},
   "outputs": [
    {
     "data": {
      "text/plain": [
       "<matplotlib.axes._subplots.AxesSubplot at 0x27fb5d3d400>"
      ]
     },
     "execution_count": 5,
     "metadata": {},
     "output_type": "execute_result"
    },
    {
     "data": {
      "image/png": "[encoded data removed]",
      "text/plain": [
       "<Figure size 432x288 with 1 Axes>"
      ]
     },
     "metadata": {
      "needs_background": "light"
     },
     "output_type": "display_data"
    }
   ],
   "source": [
    "wind['s'].plot()"
   ]
  },
  {
   "cell_type": "code",
   "execution_count": 6,
   "metadata": {},
   "outputs": [
    {
     "data": {
      "text/plain": [
       "<matplotlib.axes._subplots.AxesSubplot at 0x27fb5f6ae48>"
      ]
     },
     "execution_count": 6,
     "metadata": {},
     "output_type": "execute_result"
    },
    {
     "data": {
      "image/png": "[encoded data removed]",
      "text/plain": [
       "<Figure size 432x288 with 1 Axes>"
      ]
     },
     "metadata": {
      "needs_background": "light"
     },
     "output_type": "display_data"
    }
   ],
   "source": [
    "wind['s'].plot(kind='hist', bins=50)"
   ]
  },
  {
   "cell_type": "markdown",
   "metadata": {},
   "source": [
    "Let's save this wind data for future use. You can also save to csv or xlsx formats by using built-in DataFrame methods."
   ]
  },
  {
   "cell_type": "code",
   "execution_count": 7,
   "metadata": {},
   "outputs": [],
   "source": [
    "wind.to_pickle(r'../../files/rr_wind_speed.pyc')"
   ]
  },
  {
   "cell_type": "markdown",
   "metadata": {},
   "source": [
    "# Datum Extraction\n",
    "Though the `coops_api` function provides a way to extract tidal datums, the recommended way to do so is through the `coops_datum` function. This function requires less arguments and provides a more detailed output and, optionally, station metadata. These methods are demonstrated for the [Arena Cove](https://tidesandcurrents.noaa.gov/stationhome.html?id=9416841) station, located in California."
   ]
  },
  {
   "cell_type": "code",
   "execution_count": 8,
   "metadata": {},
   "outputs": [],
   "source": [
    "datum, meta = coops_datum(station=9416841, units='english', metadata=True)"
   ]
  },
  {
   "cell_type": "code",
   "execution_count": 9,
   "metadata": {},
   "outputs": [
    {
     "data": {
      "text/html": [
       "<div>\n",
       "<style scoped>\n",
       "    .dataframe tbody tr th:only-of-type {\n",
       "        vertical-align: middle;\n",
       "    }\n",
       "\n",
       "    .dataframe tbody tr th {\n",
       "        vertical-align: top;\n",
       "    }\n",
       "\n",
       "    .dataframe thead th {\n",
       "        text-align: right;\n",
       "    }\n",
       "</style>\n",
       "<table border=\"1\" class=\"dataframe\">\n",
       "  <thead>\n",
       "    <tr style=\"text-align: right;\">\n",
       "      <th></th>\n",
       "      <th>Value</th>\n",
       "      <th>Description</th>\n",
       "    </tr>\n",
       "    <tr>\n",
       "      <th>Datum</th>\n",
       "      <th></th>\n",
       "      <th></th>\n",
       "    </tr>\n",
       "  </thead>\n",
       "  <tbody>\n",
       "    <tr>\n",
       "      <th>STND</th>\n",
       "      <td>0.00</td>\n",
       "      <td>Station Datum</td>\n",
       "    </tr>\n",
       "    <tr>\n",
       "      <th>MHHW</th>\n",
       "      <td>34.81</td>\n",
       "      <td>Mean Higher-High Water</td>\n",
       "    </tr>\n",
       "    <tr>\n",
       "      <th>MHW</th>\n",
       "      <td>34.14</td>\n",
       "      <td>Mean High Water</td>\n",
       "    </tr>\n",
       "    <tr>\n",
       "      <th>DTL</th>\n",
       "      <td>31.88</td>\n",
       "      <td>Mean Diurnal Tide Level</td>\n",
       "    </tr>\n",
       "    <tr>\n",
       "      <th>MTL</th>\n",
       "      <td>32.12</td>\n",
       "      <td>Mean Tide Level</td>\n",
       "    </tr>\n",
       "    <tr>\n",
       "      <th>MSL</th>\n",
       "      <td>32.08</td>\n",
       "      <td>Mean Sea Level</td>\n",
       "    </tr>\n",
       "    <tr>\n",
       "      <th>MLW</th>\n",
       "      <td>30.10</td>\n",
       "      <td>Mean Low Water</td>\n",
       "    </tr>\n",
       "    <tr>\n",
       "      <th>MLLW</th>\n",
       "      <td>28.94</td>\n",
       "      <td>Mean Lower-Low Water</td>\n",
       "    </tr>\n",
       "    <tr>\n",
       "      <th>GT</th>\n",
       "      <td>5.86</td>\n",
       "      <td>Great Diurnal Range</td>\n",
       "    </tr>\n",
       "    <tr>\n",
       "      <th>MN</th>\n",
       "      <td>4.04</td>\n",
       "      <td>Mean Range of Tide</td>\n",
       "    </tr>\n",
       "    <tr>\n",
       "      <th>DHQ</th>\n",
       "      <td>0.67</td>\n",
       "      <td>Mean Diurnal High Water Inequality</td>\n",
       "    </tr>\n",
       "    <tr>\n",
       "      <th>DLQ</th>\n",
       "      <td>1.15</td>\n",
       "      <td>Mean Diurnal Low Water Inequality</td>\n",
       "    </tr>\n",
       "    <tr>\n",
       "      <th>HWI</th>\n",
       "      <td>6.84</td>\n",
       "      <td>Greenwich High Water Interval (in hours)</td>\n",
       "    </tr>\n",
       "    <tr>\n",
       "      <th>LWI</th>\n",
       "      <td>0.51</td>\n",
       "      <td>Greenwich Low Water Interval (in hours)</td>\n",
       "    </tr>\n",
       "    <tr>\n",
       "      <th>NAVD88</th>\n",
       "      <td>29.07</td>\n",
       "      <td>North American Vertical Datum of 1988</td>\n",
       "    </tr>\n",
       "  </tbody>\n",
       "</table>\n",
       "</div>"
      ],
      "text/plain": [
       "        Value                               Description\n",
       "Datum                                                  \n",
       "STND     0.00                             Station Datum\n",
       "MHHW    34.81                    Mean Higher-High Water\n",
       "MHW     34.14                           Mean High Water\n",
       "DTL     31.88                   Mean Diurnal Tide Level\n",
       "MTL     32.12                           Mean Tide Level\n",
       "MSL     32.08                            Mean Sea Level\n",
       "MLW     30.10                            Mean Low Water\n",
       "MLLW    28.94                      Mean Lower-Low Water\n",
       "GT       5.86                       Great Diurnal Range\n",
       "MN       4.04                        Mean Range of Tide\n",
       "DHQ      0.67        Mean Diurnal High Water Inequality\n",
       "DLQ      1.15         Mean Diurnal Low Water Inequality\n",
       "HWI      6.84  Greenwich High Water Interval (in hours)\n",
       "LWI      0.51   Greenwich Low Water Interval (in hours)\n",
       "NAVD88  29.07     North American Vertical Datum of 1988"
      ]
     },
     "execution_count": 9,
     "metadata": {},
     "output_type": "execute_result"
    }
   ],
   "source": [
    "datum"
   ]
  },
  {
   "cell_type": "code",
   "execution_count": 10,
   "metadata": {
    "scrolled": false
   },
   "outputs": [
    {
     "data": {
      "text/html": [
       "<div>\n",
       "<style scoped>\n",
       "    .dataframe tbody tr th:only-of-type {\n",
       "        vertical-align: middle;\n",
       "    }\n",
       "\n",
       "    .dataframe tbody tr th {\n",
       "        vertical-align: top;\n",
       "    }\n",
       "\n",
       "    .dataframe thead th {\n",
       "        text-align: right;\n",
       "    }\n",
       "</style>\n",
       "<table border=\"1\" class=\"dataframe\">\n",
       "  <thead>\n",
       "    <tr style=\"text-align: right;\">\n",
       "      <th></th>\n",
       "      <th>Value</th>\n",
       "    </tr>\n",
       "    <tr>\n",
       "      <th>Property</th>\n",
       "      <th></th>\n",
       "    </tr>\n",
       "  </thead>\n",
       "  <tbody>\n",
       "    <tr>\n",
       "      <th>accepted</th>\n",
       "      <td>Dec  6 2011</td>\n",
       "    </tr>\n",
       "    <tr>\n",
       "      <th>superseded</th>\n",
       "      <td></td>\n",
       "    </tr>\n",
       "    <tr>\n",
       "      <th>epoch</th>\n",
       "      <td>1983-2001</td>\n",
       "    </tr>\n",
       "    <tr>\n",
       "      <th>units</th>\n",
       "      <td>feet</td>\n",
       "    </tr>\n",
       "    <tr>\n",
       "      <th>OrthometricDatum</th>\n",
       "      <td>NAVD88</td>\n",
       "    </tr>\n",
       "    <tr>\n",
       "      <th>LAT</th>\n",
       "      <td>26.755</td>\n",
       "    </tr>\n",
       "    <tr>\n",
       "      <th>LATdate</th>\n",
       "      <td>19900525</td>\n",
       "    </tr>\n",
       "    <tr>\n",
       "      <th>LATtime</th>\n",
       "      <td>13:36</td>\n",
       "    </tr>\n",
       "    <tr>\n",
       "      <th>HAT</th>\n",
       "      <td>36.587</td>\n",
       "    </tr>\n",
       "    <tr>\n",
       "      <th>HATdate</th>\n",
       "      <td>19861231</td>\n",
       "    </tr>\n",
       "    <tr>\n",
       "      <th>HATtime</th>\n",
       "      <td>18:06</td>\n",
       "    </tr>\n",
       "    <tr>\n",
       "      <th>min</th>\n",
       "      <td>26.302</td>\n",
       "    </tr>\n",
       "    <tr>\n",
       "      <th>mindate</th>\n",
       "      <td>20030518</td>\n",
       "    </tr>\n",
       "    <tr>\n",
       "      <th>mintime</th>\n",
       "      <td>14:48</td>\n",
       "    </tr>\n",
       "    <tr>\n",
       "      <th>max</th>\n",
       "      <td>37.601</td>\n",
       "    </tr>\n",
       "    <tr>\n",
       "      <th>maxdate</th>\n",
       "      <td>19980206</td>\n",
       "    </tr>\n",
       "    <tr>\n",
       "      <th>maxtime</th>\n",
       "      <td>14:36</td>\n",
       "    </tr>\n",
       "    <tr>\n",
       "      <th>DatumAnalysisPeriod</th>\n",
       "      <td>[05/01/1991 - 04/30/2008, 05/01/2009 - 04/30/2...</td>\n",
       "    </tr>\n",
       "    <tr>\n",
       "      <th>NGSLink</th>\n",
       "      <td>http://www.ngs.noaa.gov/Tidal_Elevation/diagra...</td>\n",
       "    </tr>\n",
       "    <tr>\n",
       "      <th>ctrlStation</th>\n",
       "      <td>9415020 Point Reyes, CA</td>\n",
       "    </tr>\n",
       "  </tbody>\n",
       "</table>\n",
       "</div>"
      ],
      "text/plain": [
       "                                                                 Value\n",
       "Property                                                              \n",
       "accepted                                                   Dec  6 2011\n",
       "superseded                                                            \n",
       "epoch                                                        1983-2001\n",
       "units                                                             feet\n",
       "OrthometricDatum                                                NAVD88\n",
       "LAT                                                             26.755\n",
       "LATdate                                                       19900525\n",
       "LATtime                                                          13:36\n",
       "HAT                                                             36.587\n",
       "HATdate                                                       19861231\n",
       "HATtime                                                          18:06\n",
       "min                                                             26.302\n",
       "mindate                                                       20030518\n",
       "mintime                                                          14:48\n",
       "max                                                             37.601\n",
       "maxdate                                                       19980206\n",
       "maxtime                                                          14:36\n",
       "DatumAnalysisPeriod  [05/01/1991 - 04/30/2008, 05/01/2009 - 04/30/2...\n",
       "NGSLink              http://www.ngs.noaa.gov/Tidal_Elevation/diagra...\n",
       "ctrlStation                                    9415020 Point Reyes, CA"
      ]
     },
     "execution_count": 10,
     "metadata": {},
     "output_type": "execute_result"
    }
   ],
   "source": [
    "meta"
   ]
  },
  {
   "cell_type": "markdown",
   "metadata": {},
   "source": [
    "# Final Remarks\n",
    "This tutorial doesn't cover all functionality and ways of using the `noaa_coops` module. Please refer to the [module source code](https://github.com/georgebv/coastlib/blob/master/coastlib/data/noaa_coops.py) and the API reference for more information on arguments not covered here."
   ]
  }
 ],
 "metadata": {
  "kernelspec": {
   "display_name": "Python 3",
   "language": "python",
   "name": "python3"
  },
  "language_info": {
   "codemirror_mode": {
    "name": "ipython",
    "version": 3
   },
   "file_extension": ".py",
   "mimetype": "text/x-python",
   "name": "python",
   "nbconvert_exporter": "python",
   "pygments_lexer": "ipython3",
   "version": "3.7.3"
  }
 },
 "nbformat": 4,
 "nbformat_minor": 2
}
